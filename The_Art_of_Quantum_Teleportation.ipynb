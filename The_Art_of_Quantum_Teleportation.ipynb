{
  "nbformat": 4,
  "nbformat_minor": 0,
  "metadata": {
    "colab": {
      "name": "The Art of Quantum Teleportation.ipynb",
      "provenance": [],
      "collapsed_sections": [],
      "authorship_tag": "ABX9TyNlsfe5a+7YIndX9ZvxEiam",
      "include_colab_link": true
    },
    "kernelspec": {
      "name": "python3",
      "display_name": "Python 3"
    },
    "language_info": {
      "name": "python"
    }
  },
  "cells": [
    {
      "cell_type": "markdown",
      "metadata": {
        "id": "view-in-github",
        "colab_type": "text"
      },
      "source": [
        "<a href=\"https://colab.research.google.com/github/taylanoaydin/quantum/blob/main/The_Art_of_Quantum_Teleportation.ipynb\" target=\"_parent\"><img src=\"https://colab.research.google.com/assets/colab-badge.svg\" alt=\"Open In Colab\"/></a>"
      ]
    },
    {
      "cell_type": "code",
      "metadata": {
        "id": "vobdXEne87uh"
      },
      "source": [
        "!pip install pylatexenc qiskit"
      ],
      "execution_count": null,
      "outputs": []
    },
    {
      "cell_type": "code",
      "metadata": {
        "id": "Sbc80kbr9s6f"
      },
      "source": [
        "import numpy as np\n",
        "from qiskit import QuantumCircuit, QuantumRegister, ClassicalRegister\n",
        "from qiskit import IBMQ, Aer, transpile, assemble\n",
        "from qiskit.visualization import plot_histogram, plot_bloch_multivector, array_to_latex\n",
        "from qiskit.extensions import Initialize\n",
        "from qiskit.ignis.verification import marginal_counts\n",
        "from qiskit.quantum_info import random_statevector"
      ],
      "execution_count": 3,
      "outputs": []
    },
    {
      "cell_type": "code",
      "metadata": {
        "id": "1Jhavnog93uQ"
      },
      "source": [
        "  qr = QuantumRegister(3, name=\"q\")\n",
        "  crz = ClassicalRegister(1, name=\"crz\")\n",
        "  crx = ClassicalRegister(1, name=\"crx\")\n",
        "  qc = QuantumCircuit(qr, crz, crx)\n",
        "\n",
        "  psi = random_statevector(2)\n",
        "\n",
        "  init_gate = Initialize(psi)\n",
        "  init_gate.label = \"init\"\n",
        "\n",
        "  display(array_to_latex(psi, prefix=\"|\\\\psi\\\\rangle =\"))\n",
        "  plot_bloch_multivector(psi)\n",
        "\n",
        "  qc.append(init_gate, [0])\n",
        "  qc.barrier()"
      ],
      "execution_count": null,
      "outputs": []
    },
    {
      "cell_type": "code",
      "metadata": {
        "id": "qF2EtwIeM5WC"
      },
      "source": [
        "  def create_bell_pair(qc, a, b):\n",
        "      qc.h(a) \n",
        "      qc.cx(a,b)\n",
        "  def a_gates(qc, psi, a):\n",
        "      qc.cx(psi, a)\n",
        "      qc.h(psi)\n",
        "  def measure_and_send(qc, a, b):\n",
        "      qc.barrier()\n",
        "      qc.measure(a,0)\n",
        "      qc.measure(b,1)\n",
        "  def b_gates(qc, qubit, crz, crx):\n",
        "      qc.x(qubit).c_if(crx, 1)  \n",
        "      qc.z(qubit).c_if(crz, 1)"
      ],
      "execution_count": 9,
      "outputs": []
    },
    {
      "cell_type": "code",
      "metadata": {
        "id": "vg01ZEBKM8pw"
      },
      "source": [
        "  create_bell_pair(qc, 1, 2)\n",
        "  qc.barrier()\n",
        "  a_gates(qc, 0, 1)\n",
        "  measure_and_send(qc, 0, 1)\n",
        "  b_gates(qc, 2, crz, crx)\n",
        "  qc.draw()"
      ],
      "execution_count": null,
      "outputs": []
    },
    {
      "cell_type": "code",
      "metadata": {
        "id": "zQ_pXqZEMjsU"
      },
      "source": [
        "  sim = Aer.get_backend('aer_simulator')\n",
        "  qc.save_statevector()\n",
        "  out_vector = sim.run(qc).result().get_statevector()\n",
        "  plot_bloch_multivector(out_vector)"
      ],
      "execution_count": null,
      "outputs": []
    }
  ]
}